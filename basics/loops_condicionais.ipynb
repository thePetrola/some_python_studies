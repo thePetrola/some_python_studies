{
 "cells": [
  {
   "metadata": {},
   "cell_type": "markdown",
   "source": [
    "# Loops e Condicionais\n",
    "\n",
    "\n",
    "## Condicionais \n",
    "---\n",
    "\n",
    "O python possui as estruturas condicionais tradicionais :\n",
    "- if\n",
    "- else\n",
    "- elif.\n",
    "\n",
    "O Python não possui parêntesis ao redor das expressões. \n",
    "\n",
    "> **A partir do Python3.10** foi implementado o Match, equivalente ao **Switch - case**."
   ],
   "id": "dba81051afdb1d39"
  },
  {
   "metadata": {
    "collapsed": true
   },
   "cell_type": "code",
   "outputs": [],
   "execution_count": null,
   "source": [
    "## Vars\n",
    "status = 200\n",
    "\n",
    "## Blocos condicionais\n",
    "if df:\n",
    "    print(\"Igual\")\n",
    "\n",
    "if gteq:\n",
    "    print(\"Nao entra\")\n",
    "elif mteq:\n",
    "    print(\"Entra\")\n",
    "else:\n",
    "    print(\"Termina\")\n",
    "\n",
    "## A partir do Python3 temos o Match\n",
    "# match str:\n",
    "#     case 404:\n",
    "#         print(\"Not Found\")\n",
    "#     case 301:\n",
    "#         print(\"Redirect\")\n",
    "#     case 500:\n",
    "#         print(\"Server Error\")\n",
    "#     case 400:\n",
    "#         print(\"Bad Request\")\n",
    "#     case 200:\n",
    "#         print(\"Success\")\n",
    "#     case _:\n",
    "#         print(\"Error\")\n"
   ],
   "id": "initial_id"
  },
  {
   "metadata": {},
   "cell_type": "markdown",
   "source": [
    "## Loops\n",
    "---\n",
    "\n",
    "O python possui os loops\n",
    "- for\n",
    "- while"
   ],
   "id": "1b437b3b73923a5a"
  },
  {
   "metadata": {
    "ExecuteTime": {
     "end_time": "2024-10-13T18:06:47.134806Z",
     "start_time": "2024-10-13T18:06:47.128713Z"
    }
   },
   "cell_type": "code",
   "source": [
    "## Vars \n",
    "arr_loop = [0, 2, 2, 3, 4]\n",
    "\n",
    "# For tradicional\n",
    "for item in arr_loop:\n",
    "    print(item)\n",
    "\n",
    "# For com range\n",
    "for r in range(0, 10):\n",
    "    print(r)\n",
    "\n",
    "## While \n",
    "i = 0\n",
    "while True:\n",
    "    if (i >= 10):\n",
    "        break\n",
    "\n",
    "    print(i)\n",
    "    i = i + 1\n"
   ],
   "id": "7c47e7e6d8e7168a",
   "outputs": [
    {
     "name": "stdout",
     "output_type": "stream",
     "text": [
      "0\n",
      "2\n",
      "2\n",
      "3\n",
      "4\n",
      "0\n",
      "1\n",
      "2\n",
      "3\n",
      "4\n",
      "5\n",
      "6\n",
      "7\n",
      "8\n",
      "9\n",
      "0\n",
      "1\n",
      "2\n",
      "3\n",
      "4\n",
      "5\n",
      "6\n",
      "7\n",
      "8\n",
      "9\n"
     ]
    }
   ],
   "execution_count": 1
  },
  {
   "metadata": {},
   "cell_type": "code",
   "outputs": [],
   "execution_count": null,
   "source": "",
   "id": "a421e7e41b07d2cc"
  }
 ],
 "metadata": {
  "kernelspec": {
   "display_name": "Python 3",
   "language": "python",
   "name": "python3"
  },
  "language_info": {
   "codemirror_mode": {
    "name": "ipython",
    "version": 2
   },
   "file_extension": ".py",
   "mimetype": "text/x-python",
   "name": "python",
   "nbconvert_exporter": "python",
   "pygments_lexer": "ipython2",
   "version": "2.7.6"
  }
 },
 "nbformat": 4,
 "nbformat_minor": 5
}
