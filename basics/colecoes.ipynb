{
 "cells": [
  {
   "metadata": {},
   "cell_type": "markdown",
   "source": [
    "# Coleções e conjntos\n",
    "\n",
    "\n",
    "O Python possui os seguintes conjuntos de dados\n",
    "- Sets\n",
    "- list\n",
    "- Dictionary\n",
    "- Tuple \n",
    "- [x] Listas sao arrays tradicionais, ordenados, podendo ser unidimensionais ou multidimensionais.\n",
    "- [x] Dicionarios sao conjuntos chave e valor nao ordenados.\n",
    "- [x] Tuplas sao conjuntos ordenados de valores imutaveis.\n",
    "- [x] Sets sao conjuntos onde nao sao permitidos valores repetidos. Ao adicionar algum valor repetido em um Set, ele sera ignorado."
   ],
   "id": "522c4a25ed93abf5"
  },
  {
   "cell_type": "code",
   "id": "initial_id",
   "metadata": {
    "collapsed": true,
    "ExecuteTime": {
     "end_time": "2024-10-13T18:08:07.627146Z",
     "start_time": "2024-10-13T18:08:07.603772Z"
    }
   },
   "source": [
    "## Exemplo de list\n",
    "list_1 = [1, 2, 3]\n",
    "\n",
    "## Dictionary\n",
    "dict = {\n",
    "    \"nome\": \"Lucas\",\n",
    "    \"sobrenome\": \"Petrola\",\n",
    "    \"idade\": 27,\n",
    "    \"genero\": \"Masculino\"\n",
    "}\n",
    "\n",
    "## Tuple\n",
    "tupla = (0, 1, 2, 3)\n",
    "\n",
    "## Set\n",
    "set_nome = set()  # Declaracao\n",
    "# ou\n",
    "set_nome_2 = {\"Lucas\", \"Bianca\", \"Denis\", 1, 2, 3}  # Declaracao\n",
    "\n",
    "# Adicona ao set\n",
    "set_nome.add(\"Lucas\")\n",
    "set_nome.add(\"Bianca\")\n",
    "set_nome.add(\"Denis\")\n",
    "set_nome.add(1)\n",
    "set_nome.add(2)\n",
    "set_nome.add(3)\n",
    "\n",
    "## Array multidimencional\n",
    "array_multi = [[1, 2, 33], [4, 5, 6], [7, 8, 9]]\n",
    "\n",
    "## Acessos\n",
    "print(list_1)\n",
    "print(list_1[2])\n",
    "print(set_nome)\n",
    "print(set_nome_2)\n",
    "print(tupla)\n",
    "print(dict['nome'])\n",
    "print(array_multi)\n",
    "print(array_multi[0][2])\n",
    "\n",
    "## Acessos por range\n",
    "print(list_1[:2])  # Do primeiro indice ate o 2\n",
    "print(list_1[1:2])  # Do index 1 ao 2\n",
    "print(list_1[2:])  # Do indice 2 para a frente\n",
    "\n",
    "## Funcoes de conjuntos\n",
    "list_1.pop()  # Retira o ultimo elemento\n",
    "list_1.pop(1)  # Retira o elemento de index 2\n",
    "\n",
    "print(list_1)  # Imprime lista 1\n"
   ],
   "outputs": [
    {
     "name": "stdout",
     "output_type": "stream",
     "text": [
      "[1, 2, 3]\n",
      "3\n",
      "{1, 2, 3, 'Bianca', 'Lucas', 'Denis'}\n",
      "{1, 2, 3, 'Bianca', 'Lucas', 'Denis'}\n",
      "(0, 1, 2, 3)\n",
      "Lucas\n",
      "[[1, 2, 33], [4, 5, 6], [7, 8, 9]]\n",
      "33\n",
      "[1, 2]\n",
      "[2]\n",
      "[3]\n",
      "[1]\n"
     ]
    }
   ],
   "execution_count": 2
  },
  {
   "metadata": {},
   "cell_type": "code",
   "outputs": [],
   "execution_count": null,
   "source": "",
   "id": "2c7b01337e5ad5aa"
  }
 ],
 "metadata": {
  "kernelspec": {
   "display_name": "Python 3",
   "language": "python",
   "name": "python3"
  },
  "language_info": {
   "codemirror_mode": {
    "name": "ipython",
    "version": 2
   },
   "file_extension": ".py",
   "mimetype": "text/x-python",
   "name": "python",
   "nbconvert_exporter": "python",
   "pygments_lexer": "ipython2",
   "version": "2.7.6"
  }
 },
 "nbformat": 4,
 "nbformat_minor": 5
}
