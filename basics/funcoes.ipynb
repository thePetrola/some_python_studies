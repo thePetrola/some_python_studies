{
 "cells": [
  {
   "metadata": {},
   "cell_type": "markdown",
   "source": [
    "## Funções\n",
    "\n",
    "A declaração de Funções é feita à partir da palavra reservada def. A passagem de parâmetros é feita de forma tradicional.\n"
   ],
   "id": "99088cd054f23051"
  },
  {
   "metadata": {
    "collapsed": true,
    "ExecuteTime": {
     "end_time": "2024-10-13T18:02:09.122991Z",
     "start_time": "2024-10-13T18:02:09.112454Z"
    }
   },
   "cell_type": "code",
   "source": [
    "## Funcoes\n",
    "def print_some_text():\n",
    "    print(\"Some text\")\n",
    "\n",
    "\n",
    "## Funcao com parametros\n",
    "def sum_func(x, y):\n",
    "    print(x + y)\n",
    "\n",
    "\n",
    "## Passagem de parametros com valor padrao\n",
    "def default_param_sum_func(x=1, y=2):\n",
    "    print(x + y)\n",
    "\n",
    "\n",
    "## Chamada das funcoes\n",
    "print_some_text()\n",
    "sum_func(2, 5)\n",
    "default_param_sum_func()"
   ],
   "id": "initial_id",
   "outputs": [
    {
     "name": "stdout",
     "output_type": "stream",
     "text": [
      "Some text\n",
      "7\n",
      "3\n"
     ]
    }
   ],
   "execution_count": 1
  },
  {
   "metadata": {},
   "cell_type": "markdown",
   "source": [
    "## Lambda \n",
    "---\n",
    "\n",
    "Também podem ser declaradas funções lambda."
   ],
   "id": "a730c2b8ff8e40e3"
  },
  {
   "metadata": {
    "ExecuteTime": {
     "end_time": "2024-10-13T18:02:09.056750Z",
     "start_time": "2024-10-13T18:02:09.054677Z"
    }
   },
   "cell_type": "code",
   "source": [
    "# Exemplo de função lambda 01\n",
    "a_more_ten = lambda a: a + 10\n",
    "print(a_more_ten(10))\n",
    "\n",
    "# Exemplo 2\n",
    "square = lambda num: num ** 2\n",
    "square(4)"
   ],
   "id": "1495b8f3cce851a1",
   "outputs": [],
   "execution_count": null
  }
 ],
 "metadata": {
  "kernelspec": {
   "display_name": "Python 3",
   "language": "python",
   "name": "python3"
  },
  "language_info": {
   "codemirror_mode": {
    "name": "ipython",
    "version": 2
   },
   "file_extension": ".py",
   "mimetype": "text/x-python",
   "name": "python",
   "nbconvert_exporter": "python",
   "pygments_lexer": "ipython2",
   "version": "2.7.6"
  }
 },
 "nbformat": 4,
 "nbformat_minor": 5
}
