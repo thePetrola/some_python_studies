{
 "cells": [
  {
   "metadata": {},
   "cell_type": "markdown",
   "source": [
    "# Orientação a objetos em Python\n",
    "\n",
    "Guia de orientação a objetos em python.\n",
    "\n",
    "---\n",
    "\n",
    "## Declaração de classes e objetos\n",
    "\n",
    "A declaração de classes em python funciona com o uso da palavra reservada class. Pode-se ser instanciado um construtor através do método mágico **\\_\\_init()\\_\\_**. Podemos utilizar do **self** dentro das propriedades do método para acessar as propriedades da classe."
   ],
   "id": "a3a470fb81140266"
  },
  {
   "cell_type": "code",
   "id": "initial_id",
   "metadata": {
    "collapsed": true,
    "ExecuteTime": {
     "end_time": "2024-10-20T00:24:00.166545Z",
     "start_time": "2024-10-20T00:24:00.160701Z"
    }
   },
   "source": [
    "# Classe carro, iniciada com os parâmetros marca e modelo.\n",
    "\n",
    "class Carro:\n",
    "    # Método mágico\n",
    "    # Construtor com atributos de instância.\n",
    "    def __init__(self, marca, modelo):\n",
    "        self.marca = marca\n",
    "        self.modelo = modelo\n",
    "        \n",
    "    def ligar(self):\n",
    "        self.ligado = True\n",
    "        print(f\"O carro {self.modelo} está ligado..\")\n",
    "        \n",
    "    def desligar(self):\n",
    "        self.ligado = False\n",
    "        print(f\"O carro {self.modelo} está desligado\")\n",
    "        "
   ],
   "outputs": [],
   "execution_count": 1
  },
  {
   "metadata": {},
   "cell_type": "markdown",
   "source": "O Objeto se instância da seguinte forma.",
   "id": "660e3aa7ff9d1fab"
  },
  {
   "metadata": {
    "ExecuteTime": {
     "end_time": "2024-10-20T00:24:36.318227Z",
     "start_time": "2024-10-20T00:24:36.314531Z"
    }
   },
   "cell_type": "code",
   "source": [
    "meu_carro = Carro(\"Mercedes\", \"BMW\")\n",
    "\n",
    "print(f\"Meu carro {meu_carro.marca}\")\n",
    "\n",
    "meu_carro.ligar()\n",
    "meu_carro.desligar()"
   ],
   "id": "c47cc9f922d443b8",
   "outputs": [
    {
     "name": "stdout",
     "output_type": "stream",
     "text": [
      "Meu carro Mercedes\n",
      "O carro BMW está ligado..\n",
      "O carro BMW está desligado\n"
     ]
    }
   ],
   "execution_count": 3
  },
  {
   "metadata": {},
   "cell_type": "markdown",
   "source": [
    "## Métodos mágicos\n",
    "\n",
    "São métodos que são chamados em ciclos de vida de uma classe. O método construtor de uma classe é um método mágico.\n",
    "\n",
    "> # Outros exemplos, são:\n",
    "\n",
    "> * **\\_\\_new\\_\\_(cls):** É chamado para criar uma nova instância da classe antes de \\_\\_init\\_\\_. É um método estático que geralmente é usado para controlar a criação de novos objetos, por exemplo, em classes que implementam padrões de projeto como Singleton.\n",
    "> * **\\_\\_del\\_\\_(self):** Definido para realizar operações de limpeza antes de um objeto ser destruído.\n",
    "> * **\\_\\_call\\_\\_(self):** Permite que uma instância da classe seja chamada como uma função. Se definido, você pode chamar o objeto diretamente para executar o código especificado neste método.\n",
    "> * **\\_\\_repr\\_\\_(self):** Deve retornar uma string que seria uma expressão Python válida para recriar o objeto.\n",
    "> * **\\_\\_str\\_\\_(self):** Retorna uma string que é a representação informal do objeto, adequada para exibição ao usuário. É similar a \\_\\_repr\\_\\_, mas geralmente mais legível e informativa para o usuário final. "
   ],
   "id": "6de185e89c1a75f2"
  },
  {
   "metadata": {},
   "cell_type": "markdown",
   "source": [
    "## Encapsualmento\n",
    "\n",
    "Podemos usar de encapsulamento para definir propriedades publicas e privadas. Por padrao todas as propriedades de uma classe python sao publicas, podemos definir propriedades privadas adicionando um __ antes do nome de uma variavel. Podemos acessar essas propriedades atraves de getters/setters"
   ],
   "id": "e0ce733435d5bcb9"
  },
  {
   "metadata": {
    "ExecuteTime": {
     "end_time": "2024-10-20T03:17:47.859656Z",
     "start_time": "2024-10-20T03:17:47.853177Z"
    }
   },
   "cell_type": "code",
   "source": [
    "class Encapsulado:\n",
    "    def __init__(self):\n",
    "        self.__privado = 0\n",
    "        \n",
    "    def isPrivado(self):\n",
    "        return self.__privado\n",
    "    \n",
    "    def setPrivado(self, value):\n",
    "        self.__privado = value\n",
    "        \n",
    "encapsulado = Encapsulado()\n",
    "encapsulado.setPrivado(1)\n",
    "print(encapsulado.isPrivado())        "
   ],
   "id": "d5e00a6ac24cc8a5",
   "outputs": [
    {
     "name": "stdout",
     "output_type": "stream",
     "text": [
      "1\n"
     ]
    }
   ],
   "execution_count": 5
  },
  {
   "metadata": {},
   "cell_type": "code",
   "outputs": [],
   "execution_count": null,
   "source": "",
   "id": "30f52866f38e3875"
  }
 ],
 "metadata": {
  "kernelspec": {
   "display_name": "Python 3",
   "language": "python",
   "name": "python3"
  },
  "language_info": {
   "codemirror_mode": {
    "name": "ipython",
    "version": 2
   },
   "file_extension": ".py",
   "mimetype": "text/x-python",
   "name": "python",
   "nbconvert_exporter": "python",
   "pygments_lexer": "ipython2",
   "version": "2.7.6"
  }
 },
 "nbformat": 4,
 "nbformat_minor": 5
}
