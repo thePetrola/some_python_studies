{
 "cells": [
  {
   "metadata": {},
   "cell_type": "markdown",
   "source": [
    "# Docstrings\n",
    "\n",
    "Como fazer a documentação de seus projetos python de maneira simples e resumida.\n",
    "\n",
    "---\n",
    "\n",
    "## Conceito\n",
    "\n",
    "As docstrings servem como documentação e orientação das funcionalidades de um método, pacote objeto ou classe. Elas permitem que você esclareça as funcionalidades dentro do seu código de forma prática e fácil."
   ],
   "id": "3810c1f7198abc8f"
  },
  {
   "metadata": {
    "collapsed": true
   },
   "cell_type": "code",
   "outputs": [],
   "execution_count": null,
   "source": [
    "def square(a):\n",
    "    \"\"\"\n",
    "    Retorna a raíz quadrada de um número passado por parâmetro.\n",
    "    \n",
    "    :param a: \n",
    "    :return: \n",
    "    \"\"\"\n",
    "    return a ** 2"
   ],
   "id": "initial_id"
  },
  {
   "metadata": {},
   "cell_type": "markdown",
   "source": [
    "As Docstring podem ser feitas passadas como no exemplo cima. Onde teremos a descrição dos parâmetros, retorno das função, etc.., ou simplesmente em uma linha qualquer.\n",
    "\n"
   ],
   "id": "bf9bd188b1f6a4a1"
  },
  {
   "metadata": {},
   "cell_type": "code",
   "outputs": [],
   "execution_count": null,
   "source": [
    "def sum(a, b):\n",
    "    \"\"\"Retorna asoma de dois números passados por parâmetro\"\"\"\n",
    "    return a + b"
   ],
   "id": "fde0195eeed3f772"
  },
  {
   "metadata": {},
   "cell_type": "markdown",
   "source": [
    "As docstrings podem ser utilizadas como comentários de única ou de multimas linhas, elas servem como documentação geral dentro de seu código, sem a necessidade de passar um # (Sharp, jogo da velha, ou como se chama em sua região).\n",
    "\n"
   ],
   "id": "a8e747f9eee63b27"
  },
  {
   "metadata": {},
   "cell_type": "code",
   "outputs": [],
   "execution_count": null,
   "source": [
    "\"\"\"Comentário de uma única linha\"\"\"\n",
    "\n",
    "\"\"\"\n",
    "Exemplo de docstring como comentário\n",
    "Dessa forma, pode-se utilizar de comentários, dentro do se código sem mais nem menos\n",
    "\"\"\"\n",
    "\n",
    "\"\"\"\n",
    "@Author: oPetrola\n",
    "@Github: https://github.com/oPetrola\n",
    "\n",
    "Exemplo com parâmetros sobre o projeto.\n",
    "\"\"\""
   ],
   "id": "cf3e9273b6ef6b62"
  },
  {
   "metadata": {},
   "cell_type": "markdown",
   "source": [
    "Nós podemos imprimir as docsstrings em classes e funções a parir da chamada do parâmetro \\_\\_doc\\_\\_\n",
    "\n",
    " "
   ],
   "id": "f62c396dcd2c111b"
  },
  {
   "metadata": {
    "ExecuteTime": {
     "end_time": "2024-10-13T17:56:07.004917Z",
     "start_time": "2024-10-13T17:56:06.990480Z"
    }
   },
   "cell_type": "code",
   "source": [
    "# Exemplo de chamada à docstring no método square()\n",
    "def print_some_text():\n",
    "    \"\"\"\n",
    "    Comment to only print some text\n",
    "    \"\"\"\n",
    "    print('Only print some text')\n",
    "\n",
    "\n",
    "class Animal:\n",
    "    \"\"\"\n",
    "    Imprimindo docstring em uma classe.\n",
    "    \"\"\"\n",
    "    nome = \"\"\n",
    "    especie = \"\"\n",
    "\n",
    "\n",
    "print(print_some_text.__doc__)  # Function\n",
    "print(Animal.__doc__)  # Class"
   ],
   "id": "c9315039f3afd49e",
   "outputs": [
    {
     "name": "stdout",
     "output_type": "stream",
     "text": [
      "\n",
      "    Comment to only print some text\n",
      "    \n",
      "\n",
      "    Imprimindo docstring em uma classe.\n",
      "    \n"
     ]
    }
   ],
   "execution_count": 7
  },
  {
   "metadata": {},
   "cell_type": "markdown",
   "source": "Também podemos imprimir as docstring a partir da função **help()**. Trazendo uma abordangem bem mais completa da classe.",
   "id": "f8b92986ff2fa910"
  },
  {
   "metadata": {
    "ExecuteTime": {
     "end_time": "2024-10-13T17:56:55.737802Z",
     "start_time": "2024-10-13T17:56:55.726354Z"
    }
   },
   "cell_type": "code",
   "source": "help(Animal)",
   "id": "b7a75abff0e63402",
   "outputs": [
    {
     "name": "stdout",
     "output_type": "stream",
     "text": [
      "Help on class Animal in module __main__:\n",
      "\n",
      "class Animal(builtins.object)\n",
      " |  Imprimindo docstring em uma classe.\n",
      " |  \n",
      " |  Data descriptors defined here:\n",
      " |  \n",
      " |  __dict__\n",
      " |      dictionary for instance variables (if defined)\n",
      " |  \n",
      " |  __weakref__\n",
      " |      list of weak references to the object (if defined)\n",
      " |  \n",
      " |  ----------------------------------------------------------------------\n",
      " |  Data and other attributes defined here:\n",
      " |  \n",
      " |  especie = ''\n",
      " |  \n",
      " |  nome = ''\n",
      "\n"
     ]
    }
   ],
   "execution_count": 8
  },
  {
   "metadata": {},
   "cell_type": "code",
   "outputs": [],
   "execution_count": null,
   "source": "",
   "id": "a5ebcb5a6c8e2fbe"
  }
 ],
 "metadata": {
  "kernelspec": {
   "display_name": "Python 3",
   "language": "python",
   "name": "python3"
  },
  "language_info": {
   "codemirror_mode": {
    "name": "ipython",
    "version": 2
   },
   "file_extension": ".py",
   "mimetype": "text/x-python",
   "name": "python",
   "nbconvert_exporter": "python",
   "pygments_lexer": "ipython2",
   "version": "2.7.6"
  }
 },
 "nbformat": 4,
 "nbformat_minor": 5
}
