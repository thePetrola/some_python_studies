{
 "cells": [
  {
   "metadata": {},
   "cell_type": "markdown",
   "source": [
    "# Tratamento de Exceções em python\n",
    "\n",
    "O tratamento de exceções é feito à partir da cláusula **try** e **except**. Podendo haver, opcionalmente, uma cláusula **finally** no final. E também opcionalmente, podemos adicionar um **else** para executar alguma instrução, em caso de sucesso e antes do **finally** "
   ],
   "id": "d4f2321aedc31623"
  },
  {
   "metadata": {
    "collapsed": true,
    "ExecuteTime": {
     "end_time": "2024-10-15T01:58:57.529674Z",
     "start_time": "2024-10-15T01:58:57.519939Z"
    }
   },
   "cell_type": "code",
   "source": [
    "# Exemplo de try except\n",
    "a = 10\n",
    "b = 0\n",
    "\n",
    "try:\n",
    "    open(a / b)\n",
    "except ZeroDivisionError as error:\n",
    "    print(error)"
   ],
   "id": "initial_id",
   "outputs": [
    {
     "name": "stdout",
     "output_type": "stream",
     "text": [
      "division by zero\n"
     ]
    }
   ],
   "execution_count": 6
  },
  {
   "metadata": {
    "ExecuteTime": {
     "end_time": "2024-10-15T01:56:44.745513Z",
     "start_time": "2024-10-15T01:56:44.733420Z"
    }
   },
   "cell_type": "code",
   "source": [
    "# O exemplo abaixo também é válido\n",
    "try:\n",
    "    with open(\"./arquivo_inexistente.txt\", \"r\") as file:\n",
    "        texto = file.read()\n",
    "        print(texto)\n",
    "\n",
    "except FileNotFoundError as error:\n",
    "    print(\"Deu ruim\")"
   ],
   "id": "4abdebe805a4477a",
   "outputs": [
    {
     "name": "stdout",
     "output_type": "stream",
     "text": [
      "Deu ruim\n"
     ]
    }
   ],
   "execution_count": 4
  },
  {
   "metadata": {},
   "cell_type": "markdown",
   "source": "Podemos utilizar de uma cláusua **finally** para executar algo sempre após o tratamento de um exceção. E uma cláusula **else**, caso desejamos executar algo após um sucesso, e antes do **finally**.",
   "id": "1c64269e0110670e"
  },
  {
   "metadata": {
    "ExecuteTime": {
     "end_time": "2024-10-15T02:06:57.263496Z",
     "start_time": "2024-10-15T02:06:57.248857Z"
    }
   },
   "cell_type": "code",
   "source": [
    "# Exemplo com finally\n",
    "def divisor(a, b):\n",
    "    \"\"\"\n",
    "    Função criada com o intuito de demonstrar os dois cenários.\n",
    "    :param a: \n",
    "    :param b: \n",
    "    :return: \n",
    "    \"\"\"\n",
    "    try:\n",
    "        print(a / b)\n",
    "    except ZeroDivisionError as error:\n",
    "        print(error)\n",
    "    else:\n",
    "        print(\"deu bom\")\n",
    "    finally:\n",
    "        print(\"Acabou \\n-----\")\n",
    "\n",
    "\n",
    "divisor(10, 0)\n",
    "divisor(10, 20)\n"
   ],
   "id": "77a00f4806020d23",
   "outputs": [
    {
     "name": "stdout",
     "output_type": "stream",
     "text": [
      "division by zero\n",
      "Acabou \n",
      "-----\n",
      "0.5\n",
      "deu bom\n",
      "Acabou \n",
      "-----\n"
     ]
    }
   ],
   "execution_count": 12
  }
 ],
 "metadata": {
  "kernelspec": {
   "display_name": "Python 3",
   "language": "python",
   "name": "python3"
  },
  "language_info": {
   "codemirror_mode": {
    "name": "ipython",
    "version": 2
   },
   "file_extension": ".py",
   "mimetype": "text/x-python",
   "name": "python",
   "nbconvert_exporter": "python",
   "pygments_lexer": "ipython2",
   "version": "2.7.6"
  }
 },
 "nbformat": 4,
 "nbformat_minor": 5
}
