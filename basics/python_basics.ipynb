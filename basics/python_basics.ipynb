{
 "cells": [
  {
   "metadata": {},
   "cell_type": "markdown",
   "source": "# Basico da linguagem python",
   "id": "8a77807f92f26ee"
  },
  {
   "metadata": {},
   "cell_type": "code",
   "outputs": [],
   "source": [
    "from re import match\n",
    "\n",
    "# Primeiro hello world\n",
    "print(\"Pao com mortadela\")"
   ],
   "id": "7df9140457caed5e",
   "execution_count": null
  },
  {
   "metadata": {},
   "cell_type": "markdown",
   "source": [
    "### Tipos de dados e declaracoes de variavel\n",
    "\n",
    "O Python possui tres tipos de dados primitivos.\n",
    "- String\n",
    "- Bool\n",
    "- Number \n",
    "\n",
    "O python e uma linguagem de tipagem fraca e de alto nivel. ou seja, possui a inferencia de tipos dinamica."
   ],
   "id": "2e44cfe2f556cba1"
  },
  {
   "metadata": {
    "collapsed": true
   },
   "cell_type": "code",
   "outputs": [],
   "source": [
    "## String\n",
    "str = \"Isso e uma string\"\n",
    "\n",
    "## Numbers \n",
    "num = 0  # Integer \n",
    "num_f = 0.1  # Float\n",
    "\n",
    "## Bool\n",
    "bool = True  # True\n",
    "bool = False  # False"
   ],
   "id": "initial_id",
   "execution_count": null
  },
  {
   "metadata": {},
   "cell_type": "markdown",
   "source": [
    "### Operacoes basicas \n",
    "\n",
    "O python possui todas as operacoes aritmeticas basicas como: \n",
    "- soma\n",
    "- subtracao\n",
    "- multiplicacao\n",
    "- divisao\n",
    "- resto. \n",
    "- radiciacao\n",
    "\n",
    "Possui os operadores booleanos tradicionais e os operadores logicos em alto nivel (linguagem de homem)."
   ],
   "id": "62a8c026dc794d85"
  },
  {
   "metadata": {
    "ExecuteTime": {
     "end_time": "2024-10-12T04:30:25.762894Z",
     "start_time": "2024-10-12T04:30:25.716667Z"
    }
   },
   "cell_type": "code",
   "source": [
    "# Vars\n",
    "x = 1\n",
    "y = 2\n",
    "\n",
    "## Operacoes aritimeticas basicas\n",
    "sum = 2 + 2  # Soma\n",
    "sub = 2 - 2  # Subtracao\n",
    "mult = 2 * 2  # Multiplicacao\n",
    "div = 2 / 2  # Divisao\n",
    "rest = 2 % 3  # Resto\n",
    "exp = 72 ** 2  ## Raiz quadrada de 74 - Exponenciacao\n",
    "\n",
    "## Operacoes booleanas\n",
    "eq = x == y  # Igual - False\n",
    "df = x != y  # Diferente - True\n",
    "gt = x > y  # Maior que - False\n",
    "mt = x < y  # Menor que - True\n",
    "gteq = x >= y  # Maior ou igual - False\n",
    "mteq = x <= y  # Menor ou igual - True\n",
    "\n",
    "## Operadores logicos \n",
    "eq and gteq  # E (&&) \n",
    "mt or gteq  # Ou (||)\n"
   ],
   "id": "e65e58a1b7e04493",
   "outputs": [
    {
     "data": {
      "text/plain": [
       "True"
      ]
     },
     "execution_count": 1,
     "metadata": {},
     "output_type": "execute_result"
    }
   ],
   "execution_count": 1
  },
  {
   "metadata": {},
   "cell_type": "markdown",
   "source": [
    "## Condicionais \n",
    "\n",
    "O python possui as estruturas condicionais tradicionais \n",
    "- if\n",
    "- else\n",
    "- elif.\n",
    "\n",
    "e **A partir do Python3.10** foi implementado o Match, equivalente ao **Switch - case**. O Python nao possui parenteses ao redor das expressoes. "
   ],
   "id": "126569d7bcd2d3f3"
  },
  {
   "metadata": {},
   "cell_type": "code",
   "outputs": [],
   "execution_count": null,
   "source": [
    "## Vars\n",
    "status = 200\n",
    "\n",
    "## Blocos condicionais\n",
    "if df:\n",
    "    print(\"Igual\")\n",
    "\n",
    "if gteq:\n",
    "    print(\"Nao entra\")\n",
    "elif mteq:\n",
    "    print(\"Entra\")\n",
    "else:\n",
    "    print(\"Termina\")\n",
    "\n",
    "## A partir do Python3 temos o Match\n",
    "# match str:\n",
    "#     case 404:\n",
    "#         print(\"Not Found\")\n",
    "#     case 301:\n",
    "#         print(\"Redirect\")\n",
    "#     case 500:\n",
    "#         print(\"Server Error\")\n",
    "#     case 400:\n",
    "#         print(\"Bad Request\")\n",
    "#     case 200:\n",
    "#         print(\"Success\")\n",
    "#     case _:\n",
    "#         print(\"Error\")\n"
   ],
   "id": "8ac81adb1aa6c5df"
  },
  {
   "metadata": {},
   "cell_type": "markdown",
   "source": [
    "## Funcoes\n",
    "\n",
    "A declaracao de funcoes e feita a partir da palavra reservada def. A passagem de parametros e feita de forma tradicional.\n",
    "\n"
   ],
   "id": "c82f8fc6dd5e8363"
  },
  {
   "metadata": {
    "ExecuteTime": {
     "end_time": "2024-10-12T04:47:09.823529Z",
     "start_time": "2024-10-12T04:47:09.810520Z"
    }
   },
   "cell_type": "code",
   "source": [
    "## Funcoes\n",
    "def print_some_text():\n",
    "    print(\"Some text\")\n",
    "\n",
    "\n",
    "## Funcao com parametros\n",
    "def sum_func(x, y):\n",
    "    print(x + y)\n",
    "\n",
    "\n",
    "## Passagem de parametros com valor padrao\n",
    "def default_param_sum_func(x=1, y=2):\n",
    "    print(x + y)\n",
    "\n",
    "\n",
    "## Chamada das funcoes\n",
    "print_some_text()\n",
    "sum_func(2, 5)\n",
    "default_param_sum_func()\n",
    "\n",
    "\n"
   ],
   "id": "9660df34915d8755",
   "outputs": [
    {
     "name": "stdout",
     "output_type": "stream",
     "text": [
      "Some text\n",
      "7\n",
      "3\n"
     ]
    }
   ],
   "execution_count": 3
  },
  {
   "metadata": {},
   "cell_type": "markdown",
   "source": [
    "## Lambda \n",
    "Tambem podem ser declaradas funcoes lambda."
   ],
   "id": "432bded4d27b3d90"
  },
  {
   "metadata": {
    "ExecuteTime": {
     "end_time": "2024-10-12T04:49:23.204772Z",
     "start_time": "2024-10-12T04:49:23.191199Z"
    }
   },
   "cell_type": "code",
   "source": [
    "a_more_ten = lambda a: a + 10\n",
    "\n",
    "a_more_ten(10)"
   ],
   "id": "dee2c8707ba2b432",
   "outputs": [
    {
     "data": {
      "text/plain": [
       "20"
      ]
     },
     "execution_count": 6,
     "metadata": {},
     "output_type": "execute_result"
    }
   ],
   "execution_count": 6
  },
  {
   "metadata": {},
   "cell_type": "markdown",
   "source": [
    "## Formatacao de Strings\n",
    "\n",
    "Podemos formatar strings das seguintes formas abaixo. Alem de poder utilizar dos caracteres de formatacao tradiconais \n",
    "- \\n\n",
    "- \\t"
   ],
   "id": "9cc813d491157656"
  },
  {
   "metadata": {
    "ExecuteTime": {
     "end_time": "2024-10-12T04:56:20.579883Z",
     "start_time": "2024-10-12T04:56:20.568790Z"
    }
   },
   "cell_type": "code",
   "source": [
    "## Format function\n",
    "format_meth = \"use method {method_name} \\n\".format(method_name=\"format()\")\n",
    "\n",
    "## Tradicional format\n",
    "str_formatted = \"Isso e uma string\" + \" Formatada tradicionalmente \\n\"\n",
    "\n",
    "## String with \\n anda \\t\n",
    "tr_formatted_2 = \"Primeira linha \\nSegunda Linha \\nLinhas Tabuladas \\n\\ttab1\\n\\ttab2\\n\\ttab3\"\n",
    "\n",
    "## Log\n",
    "print(format_meth)\n",
    "print(str_formatted)\n",
    "print(tr_formatted_2)"
   ],
   "id": "3e31e21934508536",
   "outputs": [
    {
     "name": "stdout",
     "output_type": "stream",
     "text": [
      "use method format() \n",
      "\n",
      "Isso e uma string Formatada tradicionalmente \n",
      "\n",
      "Primeira linha \n",
      "Segunda Linha \n",
      "Linhas Tabuladas \n",
      "\ttab1\n",
      "\ttab2\n",
      "\ttab3\n"
     ]
    }
   ],
   "execution_count": 11
  },
  {
   "metadata": {},
   "cell_type": "markdown",
   "source": [
    "## Colecoes e conjntos\n",
    "\n",
    "O Python possui os seguintes conjuntos de dados\n",
    "- Sets\n",
    "- list\n",
    "- Dictionary\n",
    "- Tuple \n",
    "- [x] Listas sao arrays tradicionais, ordenados, podendo ser unidimensionais ou multidimensionais.\n",
    "- [x] Dicionarios sao conjuntos chave e valor nao ordenados.\n",
    "- [x] Tuplas sao conjuntos ordenados de valores imutaveis.\n",
    "- [x] Sets sao conjuntos onde nao sao permitidos valores repetidos. Ao adicionar algum valor repetido em um Set, ele sera ignorado.\n",
    "\n",
    "### Dictionary"
   ],
   "id": "f899f084ddacf2d5"
  },
  {
   "metadata": {
    "ExecuteTime": {
     "end_time": "2024-10-12T05:25:00.261001Z",
     "start_time": "2024-10-12T05:25:00.238816Z"
    }
   },
   "cell_type": "code",
   "source": [
    "## Exemplo de list\n",
    "list_1 = [1, 2, 3]\n",
    "\n",
    "## Dictionary\n",
    "dict = {\n",
    "    \"nome\": \"Lucas\",\n",
    "    \"sobrenome\": \"Petrola\",\n",
    "    \"idade\": 27,\n",
    "    \"genero\": \"Masculino\"\n",
    "}\n",
    "\n",
    "## Tuple\n",
    "tupla = (0, 1, 2, 3)\n",
    "\n",
    "## Set\n",
    "set_nome = set()  # Declaracao\n",
    "# ou\n",
    "set_nome_2 = {\"Lucas\", \"Bianca\", \"Denis\", 1, 2, 3}  # Declaracao\n",
    "\n",
    "# Adicona ao set\n",
    "set_nome.add(\"Lucas\")\n",
    "set_nome.add(\"Bianca\")\n",
    "set_nome.add(\"Denis\")\n",
    "set_nome.add(1)\n",
    "set_nome.add(2)\n",
    "set_nome.add(3)\n",
    "\n",
    "## Array multidimencional\n",
    "array_multi = [[1, 2, 33], [4, 5, 6], [7, 8, 9]]\n",
    "\n",
    "## Acessos\n",
    "print(list_1)\n",
    "print(list_1[2])\n",
    "print(set_nome)\n",
    "print(set_nome_2)\n",
    "print(tupla)\n",
    "print(dict['nome'])\n",
    "print(array_multi)\n",
    "print(array_multi[0][2])\n",
    "\n",
    "## Acessos por range\n",
    "print(list_1[:2])  # Do primeiro indice ate o 2\n",
    "print(list_1[1:2])  # Do index 1 ao 2\n",
    "print(list_1[2:])  # Do indice 2 para a frente\n",
    "\n",
    "## Funcoes de conjuntos\n",
    "list_1.pop()  # Retira o ultimo elemento\n",
    "list_1.pop(1)  # Retira o elemento de index 2\n",
    "\n",
    "print(list_1)  # Imprime lista 1\n"
   ],
   "id": "789ce71ea288e055",
   "outputs": [
    {
     "name": "stdout",
     "output_type": "stream",
     "text": [
      "[1, 2, 3]\n",
      "3\n",
      "{1, 2, 3, 'Bianca', 'Lucas', 'Denis'}\n",
      "{1, 2, 3, 'Bianca', 'Lucas', 'Denis'}\n",
      "(0, 1, 2, 3)\n",
      "Lucas\n",
      "[[1, 2, 33], [4, 5, 6], [7, 8, 9]]\n",
      "33\n",
      "[1, 2]\n",
      "[2]\n",
      "[3]\n",
      "[1]\n"
     ]
    }
   ],
   "execution_count": 25
  },
  {
   "metadata": {},
   "cell_type": "markdown",
   "source": [
    "## Loops\n",
    "O python possui os loops\n",
    "- for\n",
    "- while"
   ],
   "id": "92b0c5b15bedf702"
  },
  {
   "metadata": {
    "ExecuteTime": {
     "end_time": "2024-10-12T05:36:34.928632Z",
     "start_time": "2024-10-12T05:36:34.896235Z"
    }
   },
   "cell_type": "code",
   "source": [
    "## Vars \n",
    "arr_loop = [0, 2, 2, 3, 4]\n",
    "\n",
    "# For tradicional\n",
    "for item in arr_loop:\n",
    "    print(item)\n",
    "\n",
    "# For com range\n",
    "for r in range(0, 10):\n",
    "    print(r)\n",
    "\n",
    "## While \n",
    "i = 0\n",
    "while True:\n",
    "    if (i >= 10):\n",
    "        break\n",
    "\n",
    "    print(i)\n",
    "    i = i + 1\n",
    "    "
   ],
   "id": "b6bcd72b07f4ca2a",
   "outputs": [
    {
     "name": "stdout",
     "output_type": "stream",
     "text": [
      "0\n",
      "2\n",
      "2\n",
      "3\n",
      "4\n",
      "0\n",
      "1\n",
      "2\n",
      "3\n",
      "4\n",
      "5\n",
      "6\n",
      "7\n",
      "8\n",
      "9\n",
      "0\n",
      "1\n",
      "2\n",
      "3\n",
      "4\n",
      "5\n",
      "6\n",
      "7\n",
      "8\n",
      "9\n"
     ]
    }
   ],
   "execution_count": 1
  },
  {
   "metadata": {},
   "cell_type": "code",
   "outputs": [],
   "execution_count": null,
   "source": "",
   "id": "fb9d2b03bb71ec73"
  }
 ],
 "metadata": {
  "kernelspec": {
   "display_name": "Python 3",
   "language": "python",
   "name": "python3"
  },
  "language_info": {
   "codemirror_mode": {
    "name": "ipython",
    "version": 2
   },
   "file_extension": ".py",
   "mimetype": "text/x-python",
   "name": "python",
   "nbconvert_exporter": "python",
   "pygments_lexer": "ipython2",
   "version": "2.7.6"
  }
 },
 "nbformat": 4,
 "nbformat_minor": 5
}
