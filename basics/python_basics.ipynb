{
 "cells": [
  {
   "metadata": {},
   "cell_type": "markdown",
   "source": [
    "# Básico da linguagem python\n",
    "\n",
    "Simplesmente um guia do básico da sintaxe da linguagem de progrmação python.\n",
    "Este guia servirá de apoio em meus estudos e caso alguém goste e queira de aproveitar dele. Fique à vontade."
   ],
   "id": "8a77807f92f26ee"
  },
  {
   "metadata": {
    "ExecuteTime": {
     "end_time": "2024-10-17T04:28:03.278095Z",
     "start_time": "2024-10-17T04:28:03.272840Z"
    }
   },
   "cell_type": "code",
   "source": [
    "# Primeiro hello world\n",
    "print(\"Pão com mortadela\")"
   ],
   "id": "7df9140457caed5e",
   "outputs": [
    {
     "name": "stdout",
     "output_type": "stream",
     "text": [
      "Pão com mortadela\n"
     ]
    }
   ],
   "execution_count": 1
  },
  {
   "metadata": {},
   "cell_type": "markdown",
   "source": [
    "### Tipos de dados e declarações de variáveis\n",
    "---\n",
    "O python é uma linguagem de tipagem fraca e de alto nivel, ou seja, possui a inferência de tipos de forma dinâmica. O Python possui tres tipos de dados primitivos.\n",
    "\n",
    "- String\n",
    "- Bool\n",
    "- Number "
   ],
   "id": "2e44cfe2f556cba1"
  },
  {
   "metadata": {
    "collapsed": true
   },
   "cell_type": "code",
   "outputs": [],
   "source": [
    "## String\n",
    "str = \"Isso e uma string\"\n",
    "\n",
    "## Numbers \n",
    "num = 0  # Integer \n",
    "num_f = 0.1  # Float\n",
    "\n",
    "## Bool\n",
    "bool = True  # True\n",
    "bool = False  # False"
   ],
   "id": "initial_id",
   "execution_count": null
  },
  {
   "metadata": {},
   "cell_type": "markdown",
   "source": [
    "### Operações básicas \n",
    "---\n",
    "\n",
    "O python possui todas as operações aritméticas básicas como: \n",
    "- soma\n",
    "- subtração\n",
    "- multiplicação\n",
    "- divisão\n",
    "- resto. \n",
    "- radiciação\n",
    "\n",
    "Possui os operadores booleanos tradicionais:\n",
    "- == \n",
    "- != \n",
    "- \\>= \n",
    "- <= \n",
    "- \\> \n",
    "- < \n",
    "\n",
    "e os operadores logicos em alto nivel (linguagem de homem):\n",
    "- and\n",
    "- or"
   ],
   "id": "62a8c026dc794d85"
  },
  {
   "metadata": {
    "ExecuteTime": {
     "end_time": "2024-10-12T04:30:25.762894Z",
     "start_time": "2024-10-12T04:30:25.716667Z"
    }
   },
   "cell_type": "code",
   "source": [
    "# Vars\n",
    "x = 1\n",
    "y = 2\n",
    "\n",
    "## Operacoes aritimeticas basicas\n",
    "sum = 2 + 2  # Soma\n",
    "sub = 2 - 2  # Subtracao\n",
    "mult = 2 * 2  # Multiplicacao\n",
    "div = 2 / 2  # Divisao\n",
    "rest = 2 % 3  # Resto\n",
    "exp = 72 ** 2  ## Raiz quadrada de 74 - Exponenciacao\n",
    "\n",
    "## Operacoes booleanas\n",
    "eq = x == y  # Igual - False\n",
    "df = x != y  # Diferente - True\n",
    "gt = x > y  # Maior que - False\n",
    "mt = x < y  # Menor que - True\n",
    "gteq = x >= y  # Maior ou igual - False\n",
    "mteq = x <= y  # Menor ou igual - True\n",
    "\n",
    "## Operadores logicos \n",
    "eq and gteq  # E (&&) \n",
    "mt or gteq  # Ou (||)\n"
   ],
   "id": "e65e58a1b7e04493",
   "outputs": [
    {
     "data": {
      "text/plain": [
       "True"
      ]
     },
     "execution_count": 1,
     "metadata": {},
     "output_type": "execute_result"
    }
   ],
   "execution_count": 1
  },
  {
   "metadata": {},
   "cell_type": "markdown",
   "source": [
    "## Formatação de Strings\n",
    "---\n",
    "\n",
    "Podemos formatar strings das seguintes formas abaixo. Além de poder utilizar dos caracteres de formatação tradiconais:\n",
    "- \\n\n",
    "- \\t"
   ],
   "id": "9cc813d491157656"
  },
  {
   "metadata": {
    "ExecuteTime": {
     "end_time": "2024-10-12T04:56:20.579883Z",
     "start_time": "2024-10-12T04:56:20.568790Z"
    }
   },
   "cell_type": "code",
   "source": [
    "## Format function\n",
    "format_meth = \"use method {method_name} \\n\".format(method_name=\"format()\")\n",
    "\n",
    "## Tradicional format\n",
    "str_formatted = \"Isso é uma string\" + \" Formatada tradicionalmente \\n\"\n",
    "\n",
    "## String with \\n anda \\t\n",
    "tr_formatted_2 = \"Primeira linha \\nSegunda Linha \\nLinhas Tabuladas \\n\\ttab1\\n\\ttab2\\n\\ttab3\"\n",
    "\n",
    "## Log\n",
    "print(format_meth)\n",
    "print(str_formatted)\n",
    "print(tr_formatted_2)"
   ],
   "id": "3e31e21934508536",
   "outputs": [
    {
     "name": "stdout",
     "output_type": "stream",
     "text": [
      "use method format() \n",
      "\n",
      "Isso e uma string Formatada tradicionalmente \n",
      "\n",
      "Primeira linha \n",
      "Segunda Linha \n",
      "Linhas Tabuladas \n",
      "\ttab1\n",
      "\ttab2\n",
      "\ttab3\n"
     ]
    }
   ],
   "execution_count": 11
  }
 ],
 "metadata": {
  "kernelspec": {
   "display_name": "Python 3",
   "language": "python",
   "name": "python3"
  },
  "language_info": {
   "codemirror_mode": {
    "name": "ipython",
    "version": 2
   },
   "file_extension": ".py",
   "mimetype": "text/x-python",
   "name": "python",
   "nbconvert_exporter": "python",
   "pygments_lexer": "ipython2",
   "version": "2.7.6"
  }
 },
 "nbformat": 4,
 "nbformat_minor": 5
}
