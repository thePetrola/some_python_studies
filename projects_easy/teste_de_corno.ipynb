{
 "cells": [
  {
   "metadata": {},
   "cell_type": "markdown",
   "source": [
    "# Teste de corno\n",
    "\n",
    "Esta e simplesmente uma brincadeira que finge estar testando algo, mas tudo randomizado.\n",
    "\n",
    "> Isto e apenas umas brincadeira para sacanear seus amigos. Por favor nao leve a serio!"
   ],
   "id": "b173a7342f41db9"
  },
  {
   "metadata": {
    "collapsed": true,
    "ExecuteTime": {
     "end_time": "2024-10-12T06:16:49.373404Z",
     "start_time": "2024-10-12T06:16:40.865620Z"
    }
   },
   "cell_type": "code",
   "source": [
    "\"\"\"\n",
    "Teste de corno.\n",
    "\n",
    "Teste altamente eficaz para provar se voce e corno ou nao.\n",
    "\n",
    "Este arquivo contem as seguintes funcoes\n",
    "\n",
    "    * Loading\n",
    "    * print_result\n",
    "    * __main__\n",
    "\n",
    "@author: oPetrola\n",
    "\n",
    "\"\"\"\n",
    "\n",
    "# Imports \n",
    "import itertools\n",
    "import sys\n",
    "import threading\n",
    "import time\n",
    "from random import randint\n",
    "\n",
    "## Vars\n",
    "done = False  # Animation done flag\n",
    "\n",
    "messages = [\n",
    "    'Corno de marca maior.',\n",
    "    'Homem traido.',\n",
    "    'Chifrudo',\n",
    "    'Rei do gado',\n",
    "    'Cookhold',\n",
    "    'Empurra mole',\n",
    "    'Soca fofo',\n",
    "    'Geme baixo'\n",
    "]\n",
    "\n",
    "\n",
    "## Methodd\n",
    "\n",
    "# Animation\n",
    "def loading():\n",
    "    \"\"\"Inicializa uma animacao de loading\"\"\"\n",
    "    for c in itertools.cycle(['|', '/', '-', '\\\\']):\n",
    "        if done:\n",
    "            break\n",
    "        sys.stdout.write(\"\\rloading \" + c)\n",
    "        sys.stdout.flush()\n",
    "        time.sleep(0.1)\n",
    "    print(\"\\tDone!   \\n\")\n",
    "\n",
    "\n",
    "def print_result(name, age):\n",
    "    \"\"\"\n",
    "    Pega um numero par entre 24 aleatorios e imprime o resultado da cornidao.\n",
    "    :param name: \n",
    "    :param age: \n",
    "    :return: \n",
    "    \"\"\"\n",
    "\n",
    "    print(\"\\n\\nNome: {nome}\".format(nome=name))\n",
    "    print(\"Idade: {age}\\n\".format(age=age))\n",
    "    print(\"Resultado da amostra:\")\n",
    "\n",
    "    randomic = randint(0, 24)\n",
    "    \n",
    "    if randomic % 2 == 0:\n",
    "        print(\"Fudeu, {name}! Voce e um {message}\"\n",
    "              .format(name=name, message=messages[randint(0, len(messages) - 1)]))\n",
    "    else:\n",
    "        print(\"Parabens, voce nao e corno!\")\n",
    "\n",
    "\n",
    "def __main__():\n",
    "    print(\"Iniciando o teste de corno..\")\n",
    "    name = input(\"Informe seu nome: \")\n",
    "    age = input(\"Informe sua idade: \")\n",
    "\n",
    "    if name == \"\":\n",
    "        print(\"Nome nao informado.\")\n",
    "    elif age == \"\":\n",
    "        print(\"Idade nao informada.\")\n",
    "    else:\n",
    "        t = threading.Thread(target=loading)\n",
    "        t.start()\n",
    "\n",
    "        time.sleep(3)  # Time to run animation\n",
    "        done = True  # Stop animation\n",
    "\n",
    "        print_result(name, age)\n",
    "\n",
    "\n",
    "# Inicializa o script\n",
    "__main__()"
   ],
   "id": "initial_id",
   "outputs": [
    {
     "name": "stdout",
     "output_type": "stream",
     "text": [
      "Iniciando o teste de corno..\n",
      "loading /\n",
      "\n",
      "Nome: lucas\n",
      "Idade: 27\n",
      "\n",
      "Resultado da amostra:\n",
      "Parabens, voce nao e corno!\n"
     ]
    }
   ],
   "execution_count": 10
  },
  {
   "metadata": {},
   "cell_type": "code",
   "outputs": [],
   "execution_count": null,
   "source": "",
   "id": "3a14661fc9c32f3b"
  }
 ],
 "metadata": {
  "kernelspec": {
   "display_name": "Python 3",
   "language": "python",
   "name": "python3"
  },
  "language_info": {
   "codemirror_mode": {
    "name": "ipython",
    "version": 2
   },
   "file_extension": ".py",
   "mimetype": "text/x-python",
   "name": "python",
   "nbconvert_exporter": "python",
   "pygments_lexer": "ipython2",
   "version": "2.7.6"
  }
 },
 "nbformat": 4,
 "nbformat_minor": 5
}
