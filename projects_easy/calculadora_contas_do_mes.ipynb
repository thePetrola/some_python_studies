{
 "cells": [
  {
   "metadata": {},
   "cell_type": "markdown",
   "source": [
    " # Calculadora de contas do mês\n",
    " \n",
    "Simplesmente uma calculadora de contas do mês"
   ],
   "id": "7ae47b3a98e575a3"
  },
  {
   "metadata": {
    "collapsed": true,
    "ExecuteTime": {
     "end_time": "2024-10-15T02:41:30.730820Z",
     "start_time": "2024-10-15T02:41:30.712904Z"
    }
   },
   "cell_type": "code",
   "source": [
    "\"\"\"\n",
    "Simplesmente uma calculadora de contas do mês para fins de estudo.\n",
    "@Author: oPetrola\n",
    "\"\"\"\n",
    "\n",
    "from datetime import datetime\n",
    "\n",
    "# VARS\n",
    "file_path = \"./assets/calculadora_contas_do_mes\"\n",
    "\n",
    "\n",
    "def get_month():\n",
    "    return datetime.now().month\n",
    "\n",
    "\n",
    "def get_year():\n",
    "    return datetime.now().year\n",
    "\n",
    "\n",
    "def open_month_file_and_sum():\n",
    "    try:\n",
    "        file = open(\"{path}/{month}_{year}.txt\".format(path=file_path, month=get_month(), year=get_year()), \"w+\")\n",
    "        file.seek(0)\n",
    "        file.writelines(\"contas do mês {month}/{year} \\n\".format(month=get_month(), year=get_year()))\n",
    "\n",
    "        index = 0\n",
    "        for line in file:\n",
    "            print(index)\n",
    "            if index > 0 and line == \"\\n\":\n",
    "                print(\"Não há dados de contas do mês, favor preencher o arquivo de texto em {path}/{month}\".format(\n",
    "                    path=file_path, month=get_month()))\n",
    "                exit(1)\n",
    "\n",
    "            index += 1\n",
    "\n",
    "\n",
    "    except FileNotFoundError as error:\n",
    "        print(error)\n",
    "        exit(1)\n",
    "\n",
    "\n",
    "open_month_file_and_sum()\n"
   ],
   "id": "initial_id",
   "outputs": [],
   "execution_count": 40
  },
  {
   "metadata": {},
   "cell_type": "code",
   "outputs": [],
   "execution_count": null,
   "source": "",
   "id": "b7eec0ca19d03d71"
  }
 ],
 "metadata": {
  "kernelspec": {
   "display_name": "Python 3",
   "language": "python",
   "name": "python3"
  },
  "language_info": {
   "codemirror_mode": {
    "name": "ipython",
    "version": 2
   },
   "file_extension": ".py",
   "mimetype": "text/x-python",
   "name": "python",
   "nbconvert_exporter": "python",
   "pygments_lexer": "ipython2",
   "version": "2.7.6"
  }
 },
 "nbformat": 4,
 "nbformat_minor": 5
}
