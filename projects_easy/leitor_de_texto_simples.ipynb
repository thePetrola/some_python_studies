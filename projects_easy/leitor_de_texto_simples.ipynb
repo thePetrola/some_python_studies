{
 "cells": [
  {
   "metadata": {},
   "cell_type": "markdown",
   "source": [
    " # Leitor de texto simples\n",
    " \n",
    "Simplesmente um leitor e editor de texto, para fins de studo. "
   ],
   "id": "7ae47b3a98e575a3"
  },
  {
   "metadata": {
    "collapsed": true
   },
   "cell_type": "code",
   "outputs": [],
   "execution_count": null,
   "source": [
    "\"\"\"\n",
    "Simplesmente um leitor de textos simples para fins de estudo.\n",
    "@Author: oPetrola\n",
    "\"\"\""
   ],
   "id": "initial_id"
  }
 ],
 "metadata": {
  "kernelspec": {
   "display_name": "Python 3",
   "language": "python",
   "name": "python3"
  },
  "language_info": {
   "codemirror_mode": {
    "name": "ipython",
    "version": 2
   },
   "file_extension": ".py",
   "mimetype": "text/x-python",
   "name": "python",
   "nbconvert_exporter": "python",
   "pygments_lexer": "ipython2",
   "version": "2.7.6"
  }
 },
 "nbformat": 4,
 "nbformat_minor": 5
}
